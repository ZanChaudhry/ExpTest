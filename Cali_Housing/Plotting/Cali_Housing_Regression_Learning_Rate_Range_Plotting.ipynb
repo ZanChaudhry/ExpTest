{
  "nbformat": 4,
  "nbformat_minor": 0,
  "metadata": {
    "colab": {
      "provenance": []
    },
    "kernelspec": {
      "name": "python3",
      "display_name": "Python 3"
    },
    "language_info": {
      "name": "python"
    }
  },
  "cells": [
    {
      "cell_type": "code",
      "execution_count": null,
      "metadata": {
        "id": "5U-y00S7XYhA"
      },
      "outputs": [],
      "source": [
        "import numpy as np\n",
        "import matplotlib.pyplot as plt\n",
        "import json\n",
        "import ast\n",
        "import os\n",
        "import matplotlib\n",
        "matplotlib.rcParams.update({'font.size': 22})"
      ]
    },
    {
      "cell_type": "code",
      "source": [
        "val_losses_big_dict = {}\n",
        "test_losses_big_dict = {}\n",
        "train_losses_big_dict = {}\n",
        "\n",
        "filenames = [\"../Data/\"+x for x in os.listdir(\"../Data/\")]\n",
        "for filename in filenames:\n",
        "    if \"cali\" in filename:\n",
        "        if \"test\" in filename:\n",
        "            # Load the data from your JSON file (replace 'data.json' with your file path)\n",
        "            with open(filename, 'r') as file:\n",
        "                test_losses_dict = json.load(file)\n",
        "            test_losses_big_dict[filename] = test_losses_dict\n",
        "        if \"val\" in filename:\n",
        "            # Load the data from your JSON file (replace 'data.json' with your file path)\n",
        "            with open(filename, 'r') as file:\n",
        "                val_losses_dict = json.load(file)\n",
        "            val_losses_big_dict[filename] = val_losses_dict\n",
        "\n",
        "        if \"train\" in filename:\n",
        "            # Load the data from your JSON file (replace 'data.json' with your file path)\n",
        "            with open(filename, 'r') as file:\n",
        "                train_losses_dict = json.load(file)\n",
        "            train_losses_big_dict[filename] = train_losses_dict"
      ],
      "metadata": {
        "id": "UE0P9CsHXgbp"
      },
      "execution_count": null,
      "outputs": []
    },
    {
      "cell_type": "code",
      "source": [
        "for filename, test_loss_dict in test_losses_big_dict.items():\n",
        "    test_loss_list = []\n",
        "    for trial, test_loss in test_loss_dict.items():\n",
        "        if not np.isnan(test_loss[0]):\n",
        "            test_loss_list.append(test_loss[0])\n",
        "    if len(test_loss_list) < 5:\n",
        "        print(\"Some NaN losses: n = {}\".format(len(test_loss_list)))\n",
        "    print(filename, \"Test MSE: {} +/- {}\".format(round(np.mean(test_loss_list), 4), round(np.std(test_loss_list), 4)))\n",
        "    print(\"\")"
      ],
      "metadata": {
        "id": "uCFB5xwKXl-I"
      },
      "execution_count": null,
      "outputs": []
    },
    {
      "cell_type": "code",
      "source": [
        "# Train Loss Plotting\n",
        "\n",
        "factor = 1\n",
        "\n",
        "colors = {\n",
        "    \"Adam\": \"b\",\n",
        "    \"ExpTest\": \"g\",\n",
        "    \"SGD w/ Mom.\": \"r\",\n",
        "    \"SGD\": \"c\",\n",
        "    \"RMSprop\": \"m\",\n",
        "    \"Adadelta\": \"k\",\n",
        "}\n",
        "\n",
        "plt.figure(figsize=(14, 8))\n",
        "plt.tight_layout()\n",
        "plt.ylim(bottom=0.1, top=0.5)\n",
        "\n",
        "for filename, train_loss_dict in train_losses_big_dict.items():\n",
        "    if (\"algo\") in filename:\n",
        "        optimizer_name = \"ExpTest\"\n",
        "    elif (\"delta\") in filename:\n",
        "        optimizer_name = \"Adadelta\"\n",
        "    elif (\"Mom\") in filename:\n",
        "        optimizer_name = \"SGD w/ Mom.\"\n",
        "    elif (\"Adam\") in filename:\n",
        "        optimizer_name = \"Adam\"\n",
        "    elif (\"RMS\") in filename:\n",
        "        optimizer_name = \"RMSprop\"\n",
        "    else:\n",
        "        optimizer_name = \"SGD\"\n",
        "\n",
        "    if (f\"_{factor}x\" in filename) or (\"algo\" in filename) or (\"delta\" in filename):\n",
        "        train_losses_list = []\n",
        "        for trial, train_losses in train_loss_dict.items():\n",
        "            train_losses_list.append(train_losses[0])\n",
        "        losses_array = np.array(train_losses_list)\n",
        "        mean_loss = np.mean(losses_array, axis=0)\n",
        "        sem_loss = np.std(losses_array, axis=0) / np.sqrt(losses_array.shape[0])\n",
        "        iters = np.arange(len(mean_loss))\n",
        "        if np.any(mean_loss < 0.5):\n",
        "            plt.plot(iters, mean_loss, label=optimizer_name, color=colors[optimizer_name])\n",
        "            plt.fill_between(iters, mean_loss - sem_loss, mean_loss + sem_loss, alpha=0.4, color=colors[optimizer_name])\n",
        "\n",
        "plt.xlabel('Epochs')\n",
        "plt.ylabel('Training Loss')\n",
        "leg = plt.legend(ncol=3, loc='lower center')\n",
        "for legobj in leg.legend_handles:\n",
        "    legobj.set_linewidth(4)\n",
        "plt.grid()\n",
        "plt.savefig(f\"Cali_{factor}x.png\", dpi=600)\n",
        "plt.show()"
      ],
      "metadata": {
        "id": "HJ29PVgMXr0C"
      },
      "execution_count": null,
      "outputs": []
    },
    {
      "cell_type": "code",
      "source": [
        "# Validation Loss Plotting\n",
        "\n",
        "factor = 1\n",
        "\n",
        "colors = {\n",
        "    \"Adam\": \"b\",\n",
        "    \"ExpTest\": \"g\",\n",
        "    \"SGD w/ Mom.\": \"r\",\n",
        "    \"SGD\": \"c\",\n",
        "    \"RMSprop\": \"m\",\n",
        "    \"Adadelta\": \"k\",\n",
        "}\n",
        "\n",
        "plt.figure(figsize=(14, 8))\n",
        "plt.tight_layout()\n",
        "plt.ylim(bottom=0.1, top=0.5)\n",
        "\n",
        "for filename, val_loss_dict in val_losses_big_dict.items():\n",
        "    if (\"algo\") in filename:\n",
        "        optimizer_name = \"ExpTest\"\n",
        "    elif (\"delta\") in filename:\n",
        "        optimizer_name = \"Adadelta\"\n",
        "    elif (\"Mom\") in filename:\n",
        "        optimizer_name = \"SGD w/ Mom.\"\n",
        "    elif (\"Adam\") in filename:\n",
        "        optimizer_name = \"Adam\"\n",
        "    elif (\"RMS\") in filename:\n",
        "        optimizer_name = \"RMSprop\"\n",
        "    else:\n",
        "        optimizer_name = \"SGD\"\n",
        "\n",
        "    if (f\"_{factor}x\" in filename) or (\"algo\" in filename) or (\"delta\" in filename):\n",
        "        val_losses_list = []\n",
        "        for trial, val_losses in val_loss_dict.items():\n",
        "            val_losses_list.append(val_losses[0])\n",
        "        losses_array = np.array(val_losses_list)\n",
        "        mean_loss = np.mean(losses_array, axis=0)\n",
        "        sem_loss = np.std(losses_array, axis=0) / np.sqrt(losses_array.shape[0])\n",
        "        iters = np.arange(len(mean_loss))\n",
        "        if np.any(mean_loss < 0.5):\n",
        "            plt.plot(iters, mean_loss, label=optimizer_name, color=colors[optimizer_name])\n",
        "            plt.fill_between(iters, mean_loss - sem_loss, mean_loss + sem_loss, alpha=0.4, color=colors[optimizer_name])\n",
        "\n",
        "plt.xlabel('Epochs')\n",
        "plt.ylabel('Validation Loss')\n",
        "leg = plt.legend(ncol=3, loc='lower center')\n",
        "for legobj in leg.legend_handles:\n",
        "    legobj.set_linewidth(4)\n",
        "plt.grid()\n",
        "plt.savefig(f\"Cali_Val_{factor}x.png\", dpi=600)\n",
        "plt.show()"
      ],
      "metadata": {
        "id": "nX3cSA5rXy76"
      },
      "execution_count": null,
      "outputs": []
    }
  ]
}
