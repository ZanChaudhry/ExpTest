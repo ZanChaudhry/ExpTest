{
  "nbformat": 4,
  "nbformat_minor": 0,
  "metadata": {
    "colab": {
      "provenance": []
    },
    "kernelspec": {
      "name": "python3",
      "display_name": "Python 3"
    },
    "language_info": {
      "name": "python"
    }
  },
  "cells": [
    {
      "cell_type": "code",
      "execution_count": null,
      "metadata": {
        "id": "kaHaO_iz6Z5I"
      },
      "outputs": [],
      "source": [
        "import numpy as np\n",
        "import matplotlib\n",
        "import matplotlib.pyplot as plt\n",
        "matplotlib.rcParams.update({'font.size': 22})"
      ]
    },
    {
      "cell_type": "code",
      "source": [
        "def read_nested_lists_from_file(filename):\n",
        "    nested_lists = []\n",
        "    current_list = []\n",
        "\n",
        "    with open(filename, 'r') as file:\n",
        "        for line in file:\n",
        "            line = line.strip()  # Remove leading/trailing whitespace\n",
        "            if line:  # If the line is not empty\n",
        "                # Split the line into items and convert to appropriate types\n",
        "                items = [eval(item) if item.replace('.', '', 1).isdigit() else item for item in line.split(', ')]\n",
        "                current_list.append(items)\n",
        "            else:  # Empty line indicates the end of a list\n",
        "                if current_list:\n",
        "                    nested_lists.append(current_list)\n",
        "                    current_list = []  # Reset for the next list\n",
        "\n",
        "    # Add any remaining list\n",
        "    if current_list:\n",
        "        nested_lists.append(current_list)\n",
        "\n",
        "    return nested_lists"
      ],
      "metadata": {
        "id": "XeXgjgG_rgWP"
      },
      "execution_count": null,
      "outputs": []
    },
    {
      "cell_type": "code",
      "source": [
        "def moving_average(data, window_size):\n",
        "    data = np.array(data).astype(float)\n",
        "    return np.convolve(data, np.ones(window_size) / window_size, mode='valid')"
      ],
      "metadata": {
        "id": "Fntxm6Pb0Z7u"
      },
      "execution_count": null,
      "outputs": []
    },
    {
      "cell_type": "code",
      "source": [
        "# Data loading\n",
        "\n",
        "factor = 10\n",
        "\n",
        "losses_data = read_nested_lists_from_file(f\"../Data/train_losses_logress_{factor}x.txt\")\n",
        "exptest_data = read_nested_lists_from_file(\"../Data/train_losses_logress_algo.txt\")\n",
        "adadelta_data = read_nested_lists_from_file(\"../Data/train_losses_logress_adadelta.txt\")\n",
        "\n",
        "train_losses_adam_list = losses_data[0]\n",
        "train_losses_exptest_list = exptest_data[0]\n",
        "train_losses_sgd_momentum_list = losses_data[1]\n",
        "train_losses_sgd_list = losses_data[2]\n",
        "train_losses_rmsprop_list = losses_data[3]\n",
        "train_losses_adadelta_list = adadelta_data[0]\n",
        "\n",
        "test_losses_data = read_nested_lists_from_file(f\"../Data/test_losses_logress_{factor}x.txt\")[0]\n",
        "test_loss_exptest_data = read_nested_lists_from_file(\"../Data/test_losses_logress_algo.txt\")[0]\n",
        "test_loss_adadelta_data = read_nested_lists_from_file(\"../Data/test_losses_logress_adadelta.txt\")[0]\n",
        "\n",
        "test_accuracy_adam_list = test_losses_data[0]\n",
        "test_accuracy_exptest_list = test_loss_exptest_data[0]\n",
        "test_accuracy_sgd_momentum_list = test_losses_data[1]\n",
        "test_accuracy_sgd_list = test_losses_data[2]\n",
        "test_accuracy_rmsprop_list = test_losses_data[3]\n",
        "test_accuracy_adadelta_list = test_loss_adadelta_data[0]\n",
        "\n",
        "print(f\"LR = {factor} * max_lr\")\n",
        "print(\"Mean +/- STD of Test Accuracies (Adam):\", round(100*np.mean(test_accuracy_adam_list), 2), \"+/-\", round(100*np.std(test_accuracy_adam_list), 4))\n",
        "print(\"Mean +/- STD of Test Accuracies (ExpTest):\", round(100*np.mean(test_accuracy_exptest_list), 2), \"+/-\", round(100*np.std(test_accuracy_exptest_list), 4))\n",
        "print(\"Mean +/- STD of Test Accuracies (SGD with Momentum):\", round(100*np.mean(test_accuracy_sgd_momentum_list), 2), \"+/-\", round(100*np.std(test_accuracy_sgd_momentum_list), 4))\n",
        "print(\"Mean +/- STD of Test Accuracies (SGD):\", round(100*np.mean(test_accuracy_sgd_list), 2), \"+/-\", round(100*np.std(test_accuracy_sgd_list), 4))\n",
        "print(\"Mean +/- STD of Test Accuracies (RMSprop):\", round(100*np.mean(test_accuracy_rmsprop_list), 2), \"+/-\", round(100*np.std(test_accuracy_rmsprop_list), 4))\n",
        "print(\"Mean +/- STD of Test Accuracies (Adadelta):\", round(100*np.mean(test_accuracy_adadelta_list), 2), \"+/-\", round(100*np.std(test_accuracy_adadelta_list), 4))"
      ],
      "metadata": {
        "colab": {
          "base_uri": "https://localhost:8080/"
        },
        "id": "Zwdno_R2rytf",
        "outputId": "df96033e-0d3e-479d-971d-e5c3a680e555"
      },
      "execution_count": null,
      "outputs": [
        {
          "output_type": "stream",
          "name": "stdout",
          "text": [
            "LR = 10 * max_lr\n",
            "Mean +/- STD of Test Accuracies (Adam): 88.3 +/- 1.5545\n",
            "Mean +/- STD of Test Accuracies (ExpTest): 92.3 +/- 0.0729\n",
            "Mean +/- STD of Test Accuracies (SGD with Momentum): 87.62 +/- 1.2462\n",
            "Mean +/- STD of Test Accuracies (SGD): 87.96 +/- 2.6518\n",
            "Mean +/- STD of Test Accuracies (RMSprop): 88.71 +/- 1.0121\n",
            "Mean +/- STD of Test Accuracies (Adadelta): 91.46 +/- 0.354\n"
          ]
        }
      ]
    },
    {
      "cell_type": "code",
      "source": [
        "# Plotting\n",
        "\n",
        "colors = {\n",
        "    \"Adam\": \"b\",\n",
        "    \"ExpTest\": \"g\",\n",
        "    \"SGD w/ Mom.\": \"r\",\n",
        "    \"SGD\": \"c\",\n",
        "    \"RMSprop\": \"m\",\n",
        "    \"Adadelta\": \"k\",\n",
        "}\n",
        "\n",
        "# Comment out optimizers that do not appear on graph\n",
        "optimizers = {\n",
        "    # \"Adam\": train_losses_adam_list,\n",
        "    \"ExpTest\": train_losses_exptest_list,\n",
        "    # \"SGD w/ Mom.\": train_losses_sgd_momentum_list,\n",
        "    # \"SGD\": train_losses_sgd_list,\n",
        "    # \"RMSprop\": train_losses_rmsprop_list,\n",
        "    \"Adadelta\": train_losses_adadelta_list,\n",
        "}\n",
        "\n",
        "window_size = round(60000 / 32)\n",
        "\n",
        "plt.figure(figsize=(12, 8))\n",
        "\n",
        "for optimizer_name, train_losses_list in optimizers.items():\n",
        "    losses_array = np.array([moving_average(train_loss, window_size) for train_loss in train_losses_list])\n",
        "    mean_loss = np.mean(losses_array, axis=0)\n",
        "    sem_loss = np.std(losses_array, axis=0) / np.sqrt(losses_array.shape[0])\n",
        "    iters = np.linspace(1, 5, num=len(mean_loss))\n",
        "\n",
        "    plt.plot(iters, mean_loss, label=optimizer_name, color=colors[optimizer_name])\n",
        "    plt.fill_between(iters, mean_loss - sem_loss, mean_loss + sem_loss, alpha=0.4, color=colors[optimizer_name])\n",
        "\n",
        "plt.xlabel('Epochs')\n",
        "plt.ylabel('Training Loss')\n",
        "plt.ylim(top=0.4, bottom=0.25)\n",
        "leg = plt.legend()\n",
        "for legobj in leg.legend_handles:\n",
        "    legobj.set_linewidth(4)\n",
        "plt.grid()\n",
        "plt.savefig(f\"MNIST_{factor}.png\", dpi=600)\n",
        "plt.show()"
      ],
      "metadata": {
        "id": "4NeKkol1y7Eo"
      },
      "execution_count": null,
      "outputs": []
    }
  ]
}
