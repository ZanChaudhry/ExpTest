{
  "nbformat": 4,
  "nbformat_minor": 0,
  "metadata": {
    "colab": {
      "provenance": []
    },
    "kernelspec": {
      "name": "python3",
      "display_name": "Python 3"
    },
    "language_info": {
      "name": "python"
    }
  },
  "cells": [
    {
      "cell_type": "code",
      "execution_count": null,
      "metadata": {
        "id": "kaHaO_iz6Z5I"
      },
      "outputs": [],
      "source": [
        "import numpy as np\n",
        "import matplotlib\n",
        "import matplotlib.pyplot as plt\n",
        "import json\n",
        "matplotlib.rcParams.update({'font.size': 22})"
      ]
    },
    {
      "cell_type": "code",
      "source": [
        "# Data loading\n",
        "\n",
        "with open(\"../Data/train_losses_batch_sizes.txt\", 'r') as file:\n",
        "    train_losses_dict = json.load(file)\n",
        "\n",
        "with open(\"../Data/test_losses_batch_sizes.txt\", 'r') as file:\n",
        "    train_accuracies_dict = json.load(file)\n",
        "\n",
        "print(\"Mean +/- STD of Test Accuracies (32):\", round(100*np.mean(test_accuracies_dict[32]), 2), \"+/-\", round(100*np.std(test_accuracies_dict[32]), 4))\n",
        "print(\"Mean +/- STD of Test Accuracies (512):\", round(100*np.mean(test_accuracies_dict[512]), 2), \"+/-\", round(100*np.std(test_accuracies_dict[512]), 4))\n",
        "print(\"Mean +/- STD of Test Accuracies (2048):\", round(100*np.mean(test_accuracies_dict[2048]), 2), \"+/-\", round(100*np.std(test_accuracies_dict[2048]), 4))"
      ],
      "metadata": {
        "id": "Zwdno_R2rytf"
      },
      "execution_count": null,
      "outputs": []
    },
    {
      "cell_type": "code",
      "source": [
        "colors = {32 : \"green\", 512 : \"blue\", 2048 : \"magenta\"}\n",
        "\n",
        "plt.figure(figsize=(12, 8))\n",
        "\n",
        "cutoff = 1000\n",
        "\n",
        "for batch_size, train_losses_list in train_losses_dict.items():\n",
        "    batch_size = int(batch_size)\n",
        "    losses_array = np.array(train_losses_list)\n",
        "    mean_loss = np.mean(losses_array, axis=0)[:cutoff]\n",
        "    sem_loss = np.std(losses_array, axis=0)[:cutoff] / np.sqrt(losses_array.shape[0])\n",
        "    iters = np.arange(len(mean_loss))\n",
        "\n",
        "    plt.plot(iters, mean_loss, label=batch_size, color=colors[batch_size])\n",
        "    plt.fill_between(iters, mean_loss - sem_loss, mean_loss + sem_loss, alpha=0.4, color=colors[batch_size])\n",
        "\n",
        "plt.xlabel('Iterations')\n",
        "plt.ylabel('Training Loss')\n",
        "leg = plt.legend()\n",
        "for legobj in leg.legend_handles:\n",
        "    legobj.set_linewidth(4)\n",
        "plt.grid()\n",
        "plt.savefig(\"MNIST_batch_size_iters.png\", dpi=600)\n",
        "plt.show()"
      ],
      "metadata": {
        "id": "D8tsVVu655bj"
      },
      "execution_count": null,
      "outputs": []
    },
    {
      "cell_type": "code",
      "source": [
        "plt.figure(figsize=(12, 8))\n",
        "\n",
        "cutoff = 100\n",
        "\n",
        "for batch_size, train_losses_list in train_losses_dict.items():\n",
        "    batch_size = int(batch_size)\n",
        "    losses_array = np.array(train_losses_list)\n",
        "    mean_loss = np.mean(losses_array, axis=0)[:cutoff]\n",
        "    sem_loss = np.std(losses_array, axis=0)[:cutoff] / np.sqrt(losses_array.shape[0])\n",
        "    iters = np.arange(len(mean_loss))\n",
        "\n",
        "    plt.plot(iters, mean_loss, label=batch_size, color=colors[batch_size])\n",
        "    plt.fill_between(iters, mean_loss - sem_loss, mean_loss + sem_loss, alpha=0.4, color=colors[batch_size])\n",
        "\n",
        "plt.xlabel('Iterations')\n",
        "plt.ylabel('Training Loss')\n",
        "leg = plt.legend()\n",
        "for legobj in leg.legend_handles:\n",
        "    legobj.set_linewidth(4)\n",
        "plt.grid()\n",
        "plt.savefig(\"MNIST_batch_size_iters_zoom.png\", dpi=600)\n",
        "plt.show()"
      ],
      "metadata": {
        "id": "7Ohbd5Sv5_sR"
      },
      "execution_count": null,
      "outputs": []
    }
  ]
}